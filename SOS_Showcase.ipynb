{
 "cells": [
  {
   "cell_type": "code",
   "execution_count": 4,
   "id": "7b58241e-4cf2-4265-8661-3b91a87c454f",
   "metadata": {
    "kernel": "SoS",
    "tags": []
   },
   "outputs": [],
   "source": [
    "import pandas as pd\n",
    "\n",
    "data2 = pd.DataFrame({\n",
    "    'Name': ['John', 'Jane', 'Bob', 'Alice', 'Charlie', 'David'],\n",
    "    'Age': [28, 35, 22, 30, 40, 45],\n",
    "    'City': ['New York', 'San Francisco', 'Chicago', 'Los Angeles', 'Seattle', 'Boston'],\n",
    "    'Label': [1, 0, 1, 0, 1, 0]  # Binary classification labels\n",
    "})"
   ]
  },
  {
   "cell_type": "code",
   "execution_count": 5,
   "id": "d3408e02-17d1-44a3-88bf-332bfc71216b",
   "metadata": {
    "kernel": "SoS",
    "tags": []
   },
   "outputs": [
    {
     "data": {
      "text/html": [
       "<div class=\"sos_hint\">> data2: DataFrame of shape (6, 4)</div>"
      ],
      "text/plain": [
       ">>> data2:\n"
      ]
     },
     "metadata": {},
     "output_type": "display_data"
    },
    {
     "data": {
      "text/html": [
       "\n",
       "    <div class='dataframe_container' style=\"max-height:400px\">\n",
       "    <input type=\"text\" class='dataframe_input' id=\"search_w0hnofl6\" onkeyup=\"filterDataFrame('w0hnofl6')\" placeholder=\"Search for names..\">\n",
       "    <table border=\"1\" id=\"dataframe_w0hnofl6\" class=\"sos_dataframe dataframe\">\n",
       "  <thead>\n",
       "    <tr style=\"text-align: right;\">\n",
       "      <th> &nbsp; <i class=\"fa fa-sort\" style=\"color:lightgray\" onclick=\"sortDataFrame('w0hnofl6', 0, 'numeric')\"></th>\n",
       "      <th>Name &nbsp; <i class=\"fa fa-sort\" style=\"color:lightgray\" onclick=\"sortDataFrame('w0hnofl6', 1, 'alphabetic')\"></th>\n",
       "      <th>Age &nbsp; <i class=\"fa fa-sort\" style=\"color:lightgray\" onclick=\"sortDataFrame('w0hnofl6', 2, 'numeric')\"></th>\n",
       "      <th>City &nbsp; <i class=\"fa fa-sort\" style=\"color:lightgray\" onclick=\"sortDataFrame('w0hnofl6', 3, 'alphabetic')\"></th>\n",
       "      <th>Label &nbsp; <i class=\"fa fa-sort\" style=\"color:lightgray\" onclick=\"sortDataFrame('w0hnofl6', 4, 'numeric')\"></th>\n",
       "    </tr>\n",
       "  </thead>\n",
       "  <tbody>\n",
       "    <tr>\n",
       "      <th>0</th>\n",
       "      <td>John</td>\n",
       "      <td>28</td>\n",
       "      <td>New York</td>\n",
       "      <td>1</td>\n",
       "    </tr>\n",
       "    <tr>\n",
       "      <th>1</th>\n",
       "      <td>Jane</td>\n",
       "      <td>35</td>\n",
       "      <td>San Francisco</td>\n",
       "      <td>0</td>\n",
       "    </tr>\n",
       "    <tr>\n",
       "      <th>2</th>\n",
       "      <td>Bob</td>\n",
       "      <td>22</td>\n",
       "      <td>Chicago</td>\n",
       "      <td>1</td>\n",
       "    </tr>\n",
       "    <tr>\n",
       "      <th>3</th>\n",
       "      <td>Alice</td>\n",
       "      <td>30</td>\n",
       "      <td>Los Angeles</td>\n",
       "      <td>0</td>\n",
       "    </tr>\n",
       "    <tr>\n",
       "      <th>4</th>\n",
       "      <td>Charlie</td>\n",
       "      <td>40</td>\n",
       "      <td>Seattle</td>\n",
       "      <td>1</td>\n",
       "    </tr>\n",
       "    <tr>\n",
       "      <th>5</th>\n",
       "      <td>David</td>\n",
       "      <td>45</td>\n",
       "      <td>Boston</td>\n",
       "      <td>0</td>\n",
       "    </tr>\n",
       "  </tbody>\n",
       "</table></div>"
      ]
     },
     "metadata": {},
     "output_type": "display_data"
    }
   ],
   "source": [
    "# Magic commands start with '%'\n",
    "%preview data2"
   ]
  },
  {
   "cell_type": "code",
   "execution_count": 6,
   "id": "3406c6d1-9144-430f-82be-ed4306f1d3b1",
   "metadata": {
    "kernel": "R",
    "tags": []
   },
   "outputs": [],
   "source": [
    "%use R\n",
    "%get data2\n"
   ]
  },
  {
   "cell_type": "code",
   "execution_count": 7,
   "id": "b9839de3-585e-4d43-91ef-34a2989a1224",
   "metadata": {
    "kernel": "R",
    "tags": []
   },
   "outputs": [
    {
     "ename": "ERROR",
     "evalue": "Error in eval(expr, envir, enclos): Objekt 'data2' nicht gefunden\n",
     "output_type": "error",
     "traceback": [
      "Error in eval(expr, envir, enclos): Objekt 'data2' nicht gefunden\nTraceback:\n"
     ]
    }
   ],
   "source": [
    "data2"
   ]
  },
  {
   "cell_type": "code",
   "execution_count": 8,
   "id": "21ffa2b0-66fe-4317-b778-779392be6634",
   "metadata": {
    "kernel": "SoS",
    "tags": []
   },
   "outputs": [],
   "source": [
    "# Creating a DataFrame with a larger dataset\n",
    "import pandas as pd\n",
    "import numpy as np\n",
    "\n",
    "# Set a random seed for reproducibility\n",
    "np.random.seed(42)\n",
    "\n",
    "# Generate synthetic data\n",
    "n_samples = 1000\n",
    "age = np.random.randint(18, 60, size=n_samples)\n",
    "age = np.array([int(i) for i in age])\n",
    "target = np.array([i*10 for i in age])\n",
    "\n",
    "# Create a DataFrame\n",
    "data_shared = pd.DataFrame({'Age': age, 'Label': target})"
   ]
  },
  {
   "cell_type": "code",
   "execution_count": 9,
   "id": "7535fc1c-28f3-492a-9feb-77df6a626a95",
   "metadata": {
    "kernel": "SoS",
    "tags": []
   },
   "outputs": [
    {
     "data": {
      "text/plain": [
       "1.0"
      ]
     },
     "execution_count": 9,
     "metadata": {},
     "output_type": "execute_result"
    }
   ],
   "source": [
    "# Python\n",
    "from sklearn.model_selection import train_test_split\n",
    "from sklearn.ensemble import RandomForestClassifier\n",
    "from sklearn.metrics import accuracy_score\n",
    "# Splitting the data\n",
    "X = data_shared[['Age']]\n",
    "y = data_shared['Label']\n",
    "X_train, X_test, y_train, y_test = train_test_split(X, y, test_size=0.2, random_state=42)\n",
    "\n",
    "# Training a Random Forest classifier\n",
    "clf = RandomForestClassifier(random_state=42)\n",
    "clf.fit(X_train, y_train)\n",
    "\n",
    "# Making predictions\n",
    "predictions = clf.predict(X_test)\n",
    "\n",
    "# Calculating accuracy\n",
    "accuracy = accuracy_score(y_test, predictions)\n",
    "accuracy"
   ]
  },
  {
   "cell_type": "code",
   "execution_count": 10,
   "id": "cc4377dd-fd4d-484a-bc89-385b61a69a9d",
   "metadata": {
    "kernel": "R",
    "tags": []
   },
   "outputs": [],
   "source": [
    "%get data_shared"
   ]
  },
  {
   "cell_type": "code",
   "execution_count": 11,
   "id": "67526594-65a2-43df-85db-389fe5ae03b0",
   "metadata": {
    "kernel": "R",
    "tags": []
   },
   "outputs": [
    {
     "ename": "ERROR",
     "evalue": "Error in eval(expr, envir, enclos): Objekt 'data_shared' nicht gefunden\n",
     "output_type": "error",
     "traceback": [
      "Error in eval(expr, envir, enclos): Objekt 'data_shared' nicht gefunden\nTraceback:\n"
     ]
    }
   ],
   "source": [
    "data_shared"
   ]
  },
  {
   "cell_type": "code",
   "execution_count": 12,
   "id": "5d9b3dad-c5ff-406d-8b0b-6f193089aca2",
   "metadata": {
    "kernel": "R",
    "tags": []
   },
   "outputs": [
    {
     "name": "stderr",
     "output_type": "stream",
     "text": [
      "randomForest 4.7-1.1\n",
      "\n",
      "Type rfNews() to see new features/changes/bug fixes.\n",
      "\n"
     ]
    },
    {
     "ename": "ERROR",
     "evalue": "Error in nrow(data_shared): Objekt 'data_shared' nicht gefunden\n",
     "output_type": "error",
     "traceback": [
      "Error in nrow(data_shared): Objekt 'data_shared' nicht gefunden\nTraceback:\n",
      "1. sample(1:nrow(data_shared), 0.8 * nrow(data_shared))",
      "2. nrow(data_shared)"
     ]
    }
   ],
   "source": [
    "# Splitting the data manually for demonstration purposes\n",
    "library(randomForest)\n",
    "set.seed(42)\n",
    "\n",
    "splitIndex <- sample(1:nrow(data_shared), 0.8 * nrow(data_shared))\n",
    "train_data <- data_shared[splitIndex, ]\n",
    "test_data <- data_shared[-splitIndex, ]\n",
    "\n",
    "# Training a Random Forest classifier for classification\n",
    "model <- randomForest(Label ~ Age, data = train_data, classification = TRUE)\n",
    "\n",
    "# Making predictions\n",
    "predictions <- predict(model, newdata = test_data)\n",
    "\n",
    "# Calculating accuracy\n",
    "accuracy <- sum(predictions == test_data$Label) / length(predictions)\n",
    "accuracy"
   ]
  },
  {
   "cell_type": "code",
   "execution_count": 13,
   "id": "61db7814-8314-4de8-884e-2673008f7bf7",
   "metadata": {
    "kernel": "SAS",
    "tags": []
   },
   "outputs": [
    {
     "name": "stdout",
     "output_type": "stream",
     "text": [
      "SAS Connection established. Subprocess id is 1780451\n",
      "\n",
      "No encoding value provided. Will try to determine the correct encoding.\n",
      "Setting encoding to utf_8 based upon the SAS session encoding value of utf-8.\n",
      "\n",
      "\n",
      "21   ods listing close;ods html5 (id=saspy_internal) file=stdout options(bitmap_mode='inline') device=svg style=HTMLBlue; ods\n",
      "21 ! graphics on / outputfmt=png;\n",
      "\u001b[38;5;21mNOTE: Writing HTML5(SASPY_INTERNAL) Body file: STDOUT\u001b[0m\n",
      "22   \n",
      "23   import pandas as pd\n",
      "     ------\n",
      "     180\n",
      "\u001b[1m\u001b[38;5;9mERROR 180-322: Statement is not valid or it is used out of proper order.\u001b[0m\u001b[0m\n",
      "\n",
      "24   import numpy as np\n",
      "25   import tensorflow as tf\n",
      "26   from sklearn.model_selection import train_test_split\n",
      "27   from sklearn.metrics import accuracy_score\n",
      "28   \n",
      "29   # Splitting the shared dataset\n",
      "30   X_train_shared, X_test_shared, y_train_shared, y_test_shared = train_test_split(\n",
      "31       data_shared[['Age']], data_shared['Label'], test_size=0.2, random_state=42, stratify=data_shared['Label']\n",
      "32   )\n",
      "33   \n",
      "34   # Training a neural network with TensorFlow\n",
      "35   model = tf.keras.Sequential([\n",
      "36       tf.keras.layers.Dense(10, activation='relu', input_shape=(1,)),\n",
      "37       tf.keras.layers.Dense(1, activation='sigmoid')\n",
      "38   ])\n",
      "39   \n",
      "40   model.compile(optimizer='adam', loss='binary_crossentropy', metrics=['accuracy'])\n",
      "41   \n",
      "42   model.fit(X_train_shared, y_train_shared, epochs=50, verbose=0)\n",
      "43   \n",
      "44   # Getting predictions on the test set\n",
      "45   predictions_shared = (model.predict(X_test_shared) > 0.5).astype(int)\n",
      "46   \n",
      "47   # Calculating accuracy in Python\n",
      "48   accuracy_python = accuracy_score(y_test_shared, predictions_shared)\n",
      "49   accuracy_python\n",
      "50   \n",
      "51   \n",
      "52   ;\n",
      "52 !  *';*\";*/;ods html5 (id=saspy_internal) close;ods listing;\n",
      "\n"
     ]
    },
    {
     "name": "stderr",
     "output_type": "stream",
     "text": [
      "\u001b[0;31mERROR 180-322: Statement is not valid or it is used out of proper order. None\n",
      "\u001b[0m"
     ]
    }
   ],
   "source": [
    "import pandas as pd\n",
    "import numpy as np\n",
    "import tensorflow as tf\n",
    "from sklearn.model_selection import train_test_split\n",
    "from sklearn.metrics import accuracy_score\n",
    "\n",
    "# Splitting the shared dataset\n",
    "X_train_shared, X_test_shared, y_train_shared, y_test_shared = train_test_split(\n",
    "    data_shared[['Age']], data_shared['Label'], test_size=0.2, random_state=42, stratify=data_shared['Label']\n",
    ")\n",
    "\n",
    "# Training a neural network with TensorFlow\n",
    "model = tf.keras.Sequential([\n",
    "    tf.keras.layers.Dense(10, activation='relu', input_shape=(1,)),\n",
    "    tf.keras.layers.Dense(1, activation='sigmoid')\n",
    "])\n",
    "\n",
    "model.compile(optimizer='adam', loss='binary_crossentropy', metrics=['accuracy'])\n",
    "\n",
    "model.fit(X_train_shared, y_train_shared, epochs=50, verbose=0)\n",
    "\n",
    "# Getting predictions on the test set\n",
    "predictions_shared = (model.predict(X_test_shared) > 0.5).astype(int)\n",
    "\n",
    "# Calculating accuracy in Python\n",
    "accuracy_python = accuracy_score(y_test_shared, predictions_shared)\n",
    "accuracy_python"
   ]
  },
  {
   "cell_type": "code",
   "execution_count": 14,
   "id": "71d44780-2904-4683-a516-7b900f3e3003",
   "metadata": {
    "kernel": "R",
    "tags": []
   },
   "outputs": [
    {
     "name": "stderr",
     "output_type": "stream",
     "text": [
      "Variable X_train_shared does not exist\n",
      "Variable X_test_shared does not exist\n",
      "Variable y_train_shared does not exist\n",
      "Variable y_test_shared does not exist\n"
     ]
    }
   ],
   "source": [
    "%get X_train_shared \n",
    "%get X_test_shared\n",
    "%get y_train_shared\n",
    "%get y_test_shared"
   ]
  },
  {
   "cell_type": "code",
   "execution_count": 15,
   "id": "287813f6-ed97-44a5-8f6e-2bfe8c2e30b8",
   "metadata": {
    "kernel": "R",
    "tags": []
   },
   "outputs": [
    {
     "name": "stderr",
     "output_type": "stream",
     "text": [
      "Lade nötiges Paket: neuralnet\n",
      "\n",
      "Warning message in library(package, lib.loc = lib.loc, character.only = TRUE, logical.return = TRUE, :\n",
      "“es gibt kein Paket namens ‘neuralnet’”\n",
      "Installiere Paket nach ‘/usr/local/lib/R/site-library’\n",
      "(da ‘lib’ nicht spezifiziert)\n",
      "\n",
      "Warning message in install.packages(\"neuralnet\"):\n",
      "“'lib = \"/usr/local/lib/R/site-library\" ist nicht schreibbar”\n"
     ]
    },
    {
     "ename": "ERROR",
     "evalue": "Error in install.packages(\"neuralnet\"): kann keine Pakete installieren\n",
     "output_type": "error",
     "traceback": [
      "Error in install.packages(\"neuralnet\"): kann keine Pakete installieren\nTraceback:\n",
      "1. install.packages(\"neuralnet\")   # at line 3 of file <text>",
      "2. stop(\"unable to install packages\")"
     ]
    }
   ],
   "source": [
    "# In an R block\n",
    "if (!require(neuralnet)) {\n",
    "  install.packages(\"neuralnet\")\n",
    "  library(neuralnet)\n",
    "}\n",
    "\n",
    "# Training a neural network with neuralnet\n",
    "model_neuralnet <- neuralnet(y_train_shared ~ Age, data = X_train_shared, hidden = c(5, 2), linear.output = TRUE)\n",
    "\n",
    "# Making predictions on the test set\n",
    "predictions_neuralnet <- as.vector(predict(model_neuralnet, newdata = X_test_shared))\n",
    "predictions_neuralnet <- as.numeric(predictions_neuralnet > 0.5)  # Convert to numeric\n",
    "\n",
    "# Calculating accuracy in R\n",
    "accuracy_neuralnet <- sum(predictions_neuralnet == y_test_shared) / length(predictions_neuralnet)\n",
    "accuracy_neuralnet"
   ]
  },
  {
   "cell_type": "code",
   "execution_count": null,
   "id": "47f6281b-1c61-4c17-890d-0c827bf56cf4",
   "metadata": {
    "kernel": "R"
   },
   "outputs": [],
   "source": []
  }
 ],
 "metadata": {
  "kernelspec": {
   "display_name": "SoS",
   "language": "sos",
   "name": "sos"
  },
  "language_info": {
   "codemirror_mode": "sos",
   "file_extension": ".sos",
   "mimetype": "text/x-sos",
   "name": "sos",
   "nbconvert_exporter": "sos_notebook.converter.SoS_Exporter",
   "pygments_lexer": "sos"
  },
  "sos": {
   "kernels": [
    [
     "R",
     "ir",
     "R",
     "",
     "r"
    ],
    [
     "SAS",
     "sas",
     "sas",
     "",
     ""
    ],
    [
     "SoS",
     "sos",
     "",
     "",
     "sos"
    ]
   ],
   "version": "0.24.0"
  }
 },
 "nbformat": 4,
 "nbformat_minor": 5
}
