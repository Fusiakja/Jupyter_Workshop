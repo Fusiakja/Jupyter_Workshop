{
 "cells": [
  {
   "cell_type": "markdown",
   "id": "2576bb8f-9df8-43b0-aa9b-dd4a74a07486",
   "metadata": {},
   "source": [
    "## Cheese"
   ]
  },
  {
   "cell_type": "code",
   "execution_count": 1,
   "id": "49b22d32-a2d2-49c2-b487-7ab833829b38",
   "metadata": {
    "tags": []
   },
   "outputs": [
    {
     "data": {
      "text/plain": [
       "12"
      ]
     },
     "execution_count": 1,
     "metadata": {},
     "output_type": "execute_result"
    }
   ],
   "source": [
    "12"
   ]
  },
  {
   "cell_type": "code",
   "execution_count": 2,
   "id": "a6385822-41a3-4314-b5e0-60785245c132",
   "metadata": {
    "tags": []
   },
   "outputs": [
    {
     "data": {
      "text/plain": [
       "12311"
      ]
     },
     "execution_count": 2,
     "metadata": {},
     "output_type": "execute_result"
    }
   ],
   "source": [
    "12311"
   ]
  },
  {
   "cell_type": "code",
   "execution_count": 3,
   "id": "22a80104-2f79-48df-8de6-6c0c5186e6f4",
   "metadata": {
    "tags": []
   },
   "outputs": [
    {
     "ename": "NameError",
     "evalue": "name 'asdasda' is not defined",
     "output_type": "error",
     "traceback": [
      "\u001b[0;31m---------------------------------------------------------------------------\u001b[0m",
      "\u001b[0;31mNameError\u001b[0m                                 Traceback (most recent call last)",
      "Cell \u001b[0;32mIn[3], line 1\u001b[0m\n\u001b[0;32m----> 1\u001b[0m \u001b[43masdasda\u001b[49m\n",
      "\u001b[0;31mNameError\u001b[0m: name 'asdasda' is not defined"
     ]
    }
   ],
   "source": [
    "asdasda\n"
   ]
  }
 ],
 "metadata": {
  "kernelspec": {
   "display_name": "Python 3 (ipykernel)",
   "language": "python",
   "name": "python3"
  },
  "language_info": {
   "codemirror_mode": {
    "name": "ipython",
    "version": 3
   },
   "file_extension": ".py",
   "mimetype": "text/x-python",
   "name": "python",
   "nbconvert_exporter": "python",
   "pygments_lexer": "ipython3",
   "version": "3.9.17"
  }
 },
 "nbformat": 4,
 "nbformat_minor": 5
}
