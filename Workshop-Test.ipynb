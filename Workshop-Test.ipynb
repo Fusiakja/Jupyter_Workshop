{
 "cells": [
  {
   "cell_type": "markdown",
   "id": "2576bb8f-9df8-43b0-aa9b-dd4a74a07486",
   "metadata": {},
   "source": [
    "## Cheese"
   ]
  },
  {
   "cell_type": "code",
   "execution_count": 1,
   "id": "49b22d32-a2d2-49c2-b487-7ab833829b38",
   "metadata": {
    "tags": []
   },
   "outputs": [
    {
     "data": {
      "text/plain": [
       "12"
      ]
     },
     "execution_count": 1,
     "metadata": {},
     "output_type": "execute_result"
    }
   ],
   "source": [
    "12"
   ]
  },
  {
   "cell_type": "code",
   "execution_count": null,
   "id": "a6385822-41a3-4314-b5e0-60785245c132",
   "metadata": {},
   "outputs": [],
   "source": []
  }
 ],
 "metadata": {
  "kernelspec": {
   "display_name": "Python 3 (ipykernel)",
   "language": "python",
   "name": "python3"
  },
  "language_info": {
   "codemirror_mode": {
    "name": "ipython",
    "version": 3
   },
   "file_extension": ".py",
   "mimetype": "text/x-python",
   "name": "python",
   "nbconvert_exporter": "python",
   "pygments_lexer": "ipython3",
   "version": "3.9.17"
  }
 },
 "nbformat": 4,
 "nbformat_minor": 5
}
