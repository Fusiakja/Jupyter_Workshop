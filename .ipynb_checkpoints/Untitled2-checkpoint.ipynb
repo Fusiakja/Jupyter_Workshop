{
 "cells": [
  {
   "cell_type": "code",
   "execution_count": 1,
   "id": "c8d0594e-99ae-451d-9bf3-be9c6c008000",
   "metadata": {},
   "outputs": [],
   "source": [
    "import venv\n",
    "venv.create('venv2', with_pip=True)"
   ]
  },
  {
   "cell_type": "code",
   "execution_count": 3,
   "id": "2f75a232-2eeb-4619-accf-663b964d8243",
   "metadata": {
    "tags": []
   },
   "outputs": [
    {
     "name": "stdout",
     "output_type": "stream",
     "text": [
      "usage: conda [-h] [-V] command ...\n",
      "conda: error: argument command: invalid choice: './venv2/bin/activete' (choose from 'clean', 'compare', 'config', 'create', 'info', 'init', 'install', 'list', 'package', 'remove', 'uninstall', 'rename', 'run', 'search', 'update', 'upgrade', 'notices')\n",
      "\n",
      "Note: you may need to restart the kernel to use updated packages.\n"
     ]
    }
   ],
   "source": [
    "conda './venv2/bin/activete'"
   ]
  },
  {
   "cell_type": "code",
   "execution_count": 2,
   "id": "03ca5662-2bd1-4a9c-8b92-f6647812debb",
   "metadata": {
    "tags": []
   },
   "outputs": [
    {
     "data": {
      "text/plain": [
       "'/nfsmb/koll/jakub.fusiak/Test'"
      ]
     },
     "execution_count": 2,
     "metadata": {},
     "output_type": "execute_result"
    }
   ],
   "source": []
  },
  {
   "cell_type": "code",
   "execution_count": null,
   "id": "683293ad-ef2e-4c9c-9b6d-cc82ce45c3f2",
   "metadata": {},
   "outputs": [],
   "source": []
  }
 ],
 "metadata": {
  "kernelspec": {
   "display_name": "Python 3 (ipykernel)",
   "language": "python",
   "name": "python3"
  },
  "language_info": {
   "codemirror_mode": {
    "name": "ipython",
    "version": 3
   },
   "file_extension": ".py",
   "mimetype": "text/x-python",
   "name": "python",
   "nbconvert_exporter": "python",
   "pygments_lexer": "ipython3",
   "version": "3.9.17"
  }
 },
 "nbformat": 4,
 "nbformat_minor": 5
}
