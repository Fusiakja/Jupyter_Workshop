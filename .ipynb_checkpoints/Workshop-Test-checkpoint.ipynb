{
 "cells": [
  {
   "cell_type": "markdown",
   "id": "2576bb8f-9df8-43b0-aa9b-dd4a74a07486",
   "metadata": {},
   "source": [
    "## Importing Libraries"
   ]
  },
  {
   "cell_type": "code",
   "execution_count": 1,
   "id": "49b22d32-a2d2-49c2-b487-7ab833829b38",
   "metadata": {
    "tags": []
   },
   "outputs": [],
   "source": [
    "from IPython.display import display \n",
    "import ipywidgets as widget\n",
    "from ipywidgets import interact, Layout "
   ]
  },
  {
   "cell_type": "code",
   "execution_count": 2,
   "id": "a6385822-41a3-4314-b5e0-60785245c132",
   "metadata": {
    "tags": []
   },
   "outputs": [
    {
     "data": {
      "application/vnd.jupyter.widget-view+json": {
       "model_id": "18a92bc90f6448518bb2545accfde011",
       "version_major": 2,
       "version_minor": 0
      },
      "text/plain": [
       "IntSlider(value=7, description='IntSlider:', max=10)"
      ]
     },
     "execution_count": 2,
     "metadata": {},
     "output_type": "execute_result"
    }
   ],
   "source": [
    "from ipywidgets import IntSlider \n",
    "IntSlider(value=7,min=0,max=10,step=1,\n",
    "          description='IntSlider:',orientation='horizontal')"
   ]
  },
  {
   "cell_type": "code",
   "execution_count": 3,
   "id": "22a80104-2f79-48df-8de6-6c0c5186e6f4",
   "metadata": {
    "tags": []
   },
   "outputs": [
    {
     "data": {
      "application/vnd.jupyter.widget-view+json": {
       "model_id": "5ceee1c2642c4ec59c8a7e0edf9cb7b5",
       "version_major": 2,
       "version_minor": 0
      },
      "text/plain": [
       "Text(value='Text', description='Text-Widget: ')"
      ]
     },
     "metadata": {},
     "output_type": "display_data"
    },
    {
     "data": {
      "application/vnd.jupyter.widget-view+json": {
       "model_id": "60edc363dda441ad80cec83c9f9ea0c9",
       "version_major": 2,
       "version_minor": 0
      },
      "text/plain": [
       "IntSlider(value=7, description='IntSlider: ', max=10)"
      ]
     },
     "metadata": {},
     "output_type": "display_data"
    },
    {
     "data": {
      "application/vnd.jupyter.widget-view+json": {
       "model_id": "791caacc5b7b4c2da2c94fad32de4d1a",
       "version_major": 2,
       "version_minor": 0
      },
      "text/plain": [
       "Dropdown(description='Dropdown: ', index=1, options=('1', '2', '3'), value='2')"
      ]
     },
     "metadata": {},
     "output_type": "display_data"
    }
   ],
   "source": [
    "from ipywidgets import Text, IntSlider, Dropdown\n",
    "# Erstelle ein neues Text-Eingabefeld tb1 und zeige es an.\n",
    "tb1 = Text(value='Text', \n",
    "                   description='Text-Widget: ')\n",
    "display(tb1)\n",
    "# Erstelle IntSlider-Widget is1 und zeige es an.\n",
    "is1 = IntSlider(value=7, min=0, max=10, \n",
    "                        step=1, description='IntSlider: ')\n",
    "display(is1)\n",
    "# Erstelle Dropdown-Widget dd1 und zeige es an\n",
    "dd1 = Dropdown(options=['1', '2', '3'], \n",
    "                       value='2', description='Dropdown: ')\n",
    "display(dd1)"
   ]
  },
  {
   "cell_type": "code",
   "execution_count": 4,
   "id": "2c2cf097-d907-442f-99f1-9a6e85aaea11",
   "metadata": {
    "tags": []
   },
   "outputs": [
    {
     "data": {
      "application/vnd.jupyter.widget-view+json": {
       "model_id": "0f2e0e278d6b40d69701c76a0b7ec5c1",
       "version_major": 2,
       "version_minor": 0
      },
      "text/plain": [
       "Text(value='', description='a')"
      ]
     },
     "metadata": {},
     "output_type": "display_data"
    },
    {
     "data": {
      "application/vnd.jupyter.widget-view+json": {
       "model_id": "df2c998d482f41a6950728eb3d9c9839",
       "version_major": 2,
       "version_minor": 0
      },
      "text/plain": [
       "Text(value='', description='b')"
      ]
     },
     "metadata": {},
     "output_type": "display_data"
    },
    {
     "data": {
      "application/vnd.jupyter.widget-view+json": {
       "model_id": "17a9829a2a9d4ba5a62eefb9d1745cb9",
       "version_major": 2,
       "version_minor": 0
      },
      "text/plain": [
       "Button(description='Calc!', layout=Layout(width='200px'), style=ButtonStyle(button_color='red'))"
      ]
     },
     "metadata": {},
     "output_type": "display_data"
    },
    {
     "data": {
      "application/vnd.jupyter.widget-view+json": {
       "model_id": "abe8b6511d01491b84dadb219b5977a5",
       "version_major": 2,
       "version_minor": 0
      },
      "text/plain": [
       "Text(value='', description='Sum')"
      ]
     },
     "metadata": {},
     "output_type": "display_data"
    }
   ],
   "source": [
    "import ipywidgets\n",
    "from ipywidgets import Text, Button\n",
    "# Erstelle zwei Text-Eingabefelder\n",
    "textbox1 = Text(description='a'); display(textbox1)\n",
    "textbox2 = Text(description='b');display(textbox2)\n",
    "# ... einen Button\n",
    "button = Button(description='Calc!', \n",
    "                        layout=Layout(width='200px'))\n",
    "button.style.button_color = 'red'\n",
    "display(button)\n",
    "# ... und ein Text-Ausgabefeld für die Summe\n",
    "textbox3 = Text(description='Sum')\n",
    "display(textbox3)\n",
    "# Definiere Eventhandler für den Button\n",
    "def on_button_clicked(sender):\n",
    "    a = int(textbox1.value)\n",
    "    b = int(textbox2.value)\n",
    "    textbox3.value = str(a+b)\n",
    "# ... und weise ihn dem on_click-Ereignis zu\n",
    "button.on_click(on_button_clicked)"
   ]
  },
  {
   "cell_type": "code",
   "execution_count": 5,
   "id": "58f5eec5-ea61-44fc-be72-34fdc5f024f0",
   "metadata": {
    "tags": []
   },
   "outputs": [
    {
     "data": {
      "application/vnd.jupyter.widget-view+json": {
       "model_id": "c5bb5f99b7b74c4c8b2666542db8ca08",
       "version_major": 2,
       "version_minor": 0
      },
      "text/plain": [
       "interactive(children=(Dropdown(description='x', options=(1, 2, 3), value=1), Output()), _dom_classes=('widget-…"
      ]
     },
     "metadata": {},
     "output_type": "display_data"
    }
   ],
   "source": [
    " # myfunc1 gibt einen Text aus, der von x abhängt \n",
    " def myfunc1(x):  \n",
    "     print('Choice: ' + str(x)) \n",
    " # interact erzeugt Dropdown-Widget \n",
    " interact(myfunc1, x = [1, 2, 3]); "
   ]
  },
  {
   "cell_type": "code",
   "execution_count": 6,
   "id": "78d31342-be5f-4762-afa5-4d98df7fb470",
   "metadata": {
    "tags": []
   },
   "outputs": [
    {
     "data": {
      "application/vnd.jupyter.widget-view+json": {
       "model_id": "3d56512dc77040ccb59352d12ee1fdba",
       "version_major": 2,
       "version_minor": 0
      },
      "text/plain": [
       "interactive(children=(Text(value='Text', description='x'), Output()), _dom_classes=('widget-interact',))"
      ]
     },
     "metadata": {},
     "output_type": "display_data"
    }
   ],
   "source": [
    " # myfunc2 gibt den eingegebenen Text aus \n",
    " def myfunc2(x):  \n",
    "     print('Input: ' + str(x)) \n",
    " interact(myfunc2, x = 'Text'); \n"
   ]
  },
  {
   "cell_type": "code",
   "execution_count": 7,
   "id": "8f016baf-90ba-4902-9360-9c0b380f66f7",
   "metadata": {
    "tags": []
   },
   "outputs": [
    {
     "data": {
      "application/vnd.jupyter.widget-view+json": {
       "model_id": "39e4ab0303644968abb1e17d820de719",
       "version_major": 2,
       "version_minor": 0
      },
      "text/plain": [
       "interactive(children=(FloatSlider(value=7.0685834705770345, description='xmax', max=12.566370614359172, min=1.…"
      ]
     },
     "metadata": {},
     "output_type": "display_data"
    }
   ],
   "source": [
    " import matplotlib.pyplot as plt \n",
    " from numpy import arange,sin,pi \n",
    " # Definiere myplot-Funktion  \n",
    " def myplot(xmax): \n",
    "     x = arange(0, xmax, 0.01);y = sin(2*pi*x); \n",
    "     plt.plot(x,y); \n",
    " # Erstelle ein Widget für den Plot mit Hilfe von interact \n",
    " interact(myplot, xmax = (pi/2,4*pi)); "
   ]
  },
  {
   "cell_type": "code",
   "execution_count": 8,
   "id": "3f268c6d-2c8f-42e1-bd41-42f627f7519c",
   "metadata": {
    "tags": []
   },
   "outputs": [],
   "source": [
    "import pandas as pd\n",
    "def display_dataframe(df, rows=6, cols=6):\n",
    "    with pd.option_context('display.max_rows', rows, \n",
    "                    'display.max_columns', cols):  \n",
    "        display(df)\n",
    "def select_data(spalten): \n",
    "    df2 = df.loc[:,spalten];  \n",
    "    ax = df2.plot(); \n",
    "    ax.set_ylabel('Daily Consumption (GWh)'); "
   ]
  },
  {
   "cell_type": "code",
   "execution_count": 9,
   "id": "c5724870-b76a-4b80-b804-4db067f1f87c",
   "metadata": {
    "tags": []
   },
   "outputs": [
    {
     "data": {
      "application/vnd.jupyter.widget-view+json": {
       "model_id": "5257a011fb3940be979da61f84069594",
       "version_major": 2,
       "version_minor": 0
      },
      "text/plain": [
       "Tab(children=(Output(), Output()), layout=Layout(width='70%'), selected_index=0, titles=('Data', 'Plot'))"
      ]
     },
     "metadata": {},
     "output_type": "display_data"
    }
   ],
   "source": [
    "from ipywidgets import Output, Layout, Dropdown, Tab, VBox\n",
    "from ipywidgets import interactive_output\n",
    "out1, out2 = ipywidgets.Output(), ipywidgets.Output()\n",
    "with out1:\n",
    "    file = 'opsd_2018.csv'\n",
    "    df = pd.read_csv(file, header=0, sep = \",\", index_col=0, parse_dates=True) \n",
    "    display_dataframe(df)\n",
    "with out2: \n",
    "    ui_spalten = widgets.Dropdown(description='Choice:', \n",
    "                                  options=df.columns[0:], value='Verbrauch', \n",
    "                                  layout=Layout(width='auto'))\n",
    "    out = widgets.interactive_output(select_data, {'spalten': ui_spalten}); \n",
    "    display(widgets.VBox([ui_spalten, out]))\n",
    "    \n",
    "tab = ipywidgets.Tab(children = [out1, out2], layout=Layout(width='70%'))\n",
    "tab.set_title(0, 'Data')\n",
    "tab.set_title(1, 'Plot')\n",
    "display(tab)"
   ]
  },
  {
   "cell_type": "code",
   "execution_count": 10,
   "id": "8dab4c39-9db5-4992-af8f-ae11bbf0f9fe",
   "metadata": {
    "tags": []
   },
   "outputs": [
    {
     "data": {
      "application/vnd.jupyter.widget-view+json": {
       "model_id": "5f094ebc31a84284b9f0b769c76e1c76",
       "version_major": 2,
       "version_minor": 0
      },
      "text/plain": [
       "VBox(children=(FloatSlider(value=6.283185307179586, description='xmax', max=6.283185307179586, min=1.570796326…"
      ]
     },
     "metadata": {},
     "output_type": "display_data"
    }
   ],
   "source": [
    "def myplot(xmax):\n",
    "     x = arange(0, xmax, 0.01)\n",
    "     y = sin(2*pi*x)\n",
    "     plt.plot(x,y)\n",
    "ui_xmax = ipywidgets.FloatSlider(description='xmax', value=10, min=pi/2, max=2*pi);\n",
    "out = ipywidgets.interactive_output(myplot, {'xmax': ui_xmax}); \n",
    "display(ipywidgets.VBox([ui_xmax,out], layout=Layout(width='50%',border='1px dotted blue')))"
   ]
  },
  {
   "cell_type": "code",
   "execution_count": 11,
   "id": "afd08c34-a57d-48bb-9a23-e60f488abeb7",
   "metadata": {
    "tags": []
   },
   "outputs": [],
   "source": [
    "import pandas as pd\n",
    "import ipywidgets as widgets\n",
    "def display_dataframe(df, rows=6, cols=6):\n",
    "  with pd.option_context('display.max_rows', rows, \n",
    "                         'display.max_columns', cols):  \n",
    "                         display(df)\n",
    "def select_data(spalten): \n",
    "    df2 = df.loc[:,spalten];  \n",
    "    ax = df2.plot(); \n",
    "    ax.set_ylabel('Daily Consumption (GWh)'); \n"
   ]
  },
  {
   "cell_type": "code",
   "execution_count": 12,
   "id": "6e19182a-59a9-47a0-a7ef-d2a08e0b4f5d",
   "metadata": {
    "tags": []
   },
   "outputs": [
    {
     "data": {
      "application/vnd.jupyter.widget-view+json": {
       "model_id": "4dd18ee475e6454588991a56c51670e7",
       "version_major": 2,
       "version_minor": 0
      },
      "text/plain": [
       "Tab(children=(Output(), Output()), layout=Layout(width='70%'), selected_index=0, titles=('Daten', 'Grafik'))"
      ]
     },
     "metadata": {},
     "output_type": "display_data"
    }
   ],
   "source": [
    "from ipywidgets import Output, Layout, Dropdown, Tab, VBox\n",
    "from ipywidgets import interactive_output\n",
    "out1, out2 = Output(), Output()\n",
    "with out1:\n",
    "  file = 'https://elab2go.de/demo-py5/opsd_2018.csv'\n",
    "  df = pd.read_csv(file, header=0, sep = \",\", \n",
    "                   index_col=0, parse_dates=True) \n",
    "  display_dataframe(df)\n",
    "with out2: \n",
    "  ui_spalten = Dropdown(description='Auswahl:', \n",
    "                        options=df.columns[0:], value='Verbrauch', \n",
    "                        layout=Layout(width='auto'))\n",
    "  out = interactive_output(select_data, {'spalten': ui_spalten}); \n",
    "  display(VBox([ui_spalten, out]))\n",
    "    \n",
    "tab = Tab(children = [out1, out2], \n",
    "          layout=Layout(width='70%'))\n",
    "tab.set_title(0, 'Daten')\n",
    "tab.set_title(1, 'Grafik')\n",
    "display(tab)"
   ]
  },
  {
   "cell_type": "code",
   "execution_count": 13,
   "id": "b31c7888-b375-42d2-a5f6-bc79559430f9",
   "metadata": {
    "tags": []
   },
   "outputs": [
    {
     "name": "stdout",
     "output_type": "stream",
     "text": [
      "title= World Map at 48, 350\n"
     ]
    },
    {
     "data": {
      "application/vnd.jupyter.widget-view+json": {
       "model_id": "d4aa4777d72645f094233f36d92dcd60",
       "version_major": 2,
       "version_minor": 0
      },
      "text/plain": [
       "Map(center=[48, 350], controls=(ZoomControl(options=['position', 'zoom_in_text', 'zoom_in_title', 'zoom_out_te…"
      ]
     },
     "execution_count": 13,
     "metadata": {},
     "output_type": "execute_result"
    }
   ],
   "source": [
    "from ipyleaflet import Map, basemaps, basemap_to_tiles\n",
    "\n",
    "lat = 48\n",
    "long = 350\n",
    "\n",
    "print(\"title=\", f\"World Map at {lat}, {long}\")\n",
    "\n",
    "Map(basemap=basemap_to_tiles(basemaps.OpenStreetMap.Mapnik),\n",
    "    center=(lat, long), zoom=2)"
   ]
  },
  {
   "cell_type": "code",
   "execution_count": null,
   "id": "17fc9290-c2a2-4d59-b4c0-5fc235ff3945",
   "metadata": {},
   "outputs": [],
   "source": []
  }
 ],
 "metadata": {
  "kernelspec": {
   "display_name": "Python 3 (ipykernel)",
   "language": "python",
   "name": "python3"
  },
  "language_info": {
   "codemirror_mode": {
    "name": "ipython",
    "version": 3
   },
   "file_extension": ".py",
   "mimetype": "text/x-python",
   "name": "python",
   "nbconvert_exporter": "python",
   "pygments_lexer": "ipython3",
   "version": "3.9.17"
  }
 },
 "nbformat": 4,
 "nbformat_minor": 5
}
