{
 "cells": [
  {
   "cell_type": "code",
   "execution_count": 2,
   "id": "481328ba-c040-403b-86cb-c0c8cdb85d8c",
   "metadata": {
    "tags": []
   },
   "outputs": [
    {
     "name": "stdout",
     "output_type": "stream",
     "text": [
      "Requirement already satisfied: pandas in /opt/conda/lib/python3.9/site-packages (1.5.3)\n",
      "Requirement already satisfied: python-dateutil>=2.8.1 in /opt/conda/lib/python3.9/site-packages (from pandas) (2.8.2)\n",
      "Requirement already satisfied: pytz>=2020.1 in /opt/conda/lib/python3.9/site-packages (from pandas) (2022.7)\n",
      "Requirement already satisfied: numpy>=1.20.3 in /opt/conda/lib/python3.9/site-packages (from pandas) (1.25.0)\n",
      "Requirement already satisfied: six>=1.5 in /opt/conda/lib/python3.9/site-packages (from python-dateutil>=2.8.1->pandas) (1.16.0)\n"
     ]
    }
   ],
   "source": [
    "!pip install pandas"
   ]
  },
  {
   "cell_type": "code",
   "execution_count": 3,
   "id": "cac5d600-2a1e-4bf8-ba31-f5f0edcd5e82",
   "metadata": {
    "tags": []
   },
   "outputs": [],
   "source": [
    "asas = 2"
   ]
  },
  {
   "cell_type": "code",
   "execution_count": 8,
   "id": "eb2f505b-c415-4a69-a36c-1c2ab0673bea",
   "metadata": {
    "tags": []
   },
   "outputs": [],
   "source": [
    "y = 3"
   ]
  },
  {
   "cell_type": "code",
   "execution_count": 5,
   "id": "0b1242cf-006b-42d8-ab04-c8399595d012",
   "metadata": {
    "tags": []
   },
   "outputs": [],
   "source": [
    "lla = 3"
   ]
  },
  {
   "cell_type": "code",
   "execution_count": 6,
   "id": "7d7581aa-6a85-48e8-b023-a3a50cbc137a",
   "metadata": {
    "tags": []
   },
   "outputs": [],
   "source": [
    "\n",
    "y =asas + lla"
   ]
  },
  {
   "cell_type": "code",
   "execution_count": 9,
   "id": "54cb53ea-30e3-473b-982e-102fc67e3d82",
   "metadata": {
    "tags": []
   },
   "outputs": [
    {
     "data": {
      "text/plain": [
       "3"
      ]
     },
     "execution_count": 9,
     "metadata": {},
     "output_type": "execute_result"
    }
   ],
   "source": [
    "y"
   ]
  },
  {
   "cell_type": "code",
   "execution_count": null,
   "id": "2741b81d-2a09-4d4f-9633-6e46e146d179",
   "metadata": {},
   "outputs": [],
   "source": []
  }
 ],
 "metadata": {
  "kernelspec": {
   "display_name": "Python 3 (ipykernel)",
   "language": "python",
   "name": "python3"
  },
  "language_info": {
   "codemirror_mode": {
    "name": "ipython",
    "version": 3
   },
   "file_extension": ".py",
   "mimetype": "text/x-python",
   "name": "python",
   "nbconvert_exporter": "python",
   "pygments_lexer": "ipython3",
   "version": "3.9.17"
  }
 },
 "nbformat": 4,
 "nbformat_minor": 5
}
